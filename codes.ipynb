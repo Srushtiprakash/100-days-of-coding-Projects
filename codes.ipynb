{
 "cells": [
  {
   "cell_type": "code",
   "execution_count": null,
   "id": "3ded2055",
   "metadata": {},
   "outputs": [
    {
     "name": "stdout",
     "output_type": "stream",
     "text": [
      "Welcome to Treasure Island.\n",
      "Your mission is to find the treasure.\n"
     ]
    }
   ],
   "source": [
    "print(\"Welcome to Treasure Island.\")\n",
    "print(\"Your mission is to find the treasure.\")\n",
    "result1 = input('which way do you want to go? left or right?\\n').lower()\n",
    "if result1 == 'left':\n",
    "  result2 = input('you\\'ve arrived at a croosroad, do you want to wait for a boat or swim yourself? Type \"wait\" to wait or \"swim\" to swim\\n')\n",
    "  if result2 == 'wait':\n",
    "    result3 = input('You\\'ve arrived at the island unharmed. Now you have to choose between three doors. Type \"red\" to open the red door, \"yellow\" to open the yellow door or \"blue\" to open the blue door\\n')\n",
    "    if result3 == 'red':\n",
    "      print('Game over. You entered the room of dragons')\n",
    "    elif result3 == 'yellow':\n",
    "      print('Congratulations. You found the treasure. Now grab as much as you need and run as fast as you can')\n",
    "    elif result3 == 'blue':\n",
    "      print('Game over. You\\'ve entered the room of snakes ')\n",
    "    else:\n",
    "      print('game over')\n",
    "  else:\n",
    "    print('You were eaten by an angry giant trout')\n",
    "else:\n",
    "  print('Game over. You fell into a trap')\n",
    " \n"
   ]
  },
  {
   "cell_type": "code",
   "execution_count": null,
   "id": "c70948d7",
   "metadata": {},
   "outputs": [],
   "source": []
  },
  {
   "cell_type": "code",
   "execution_count": 1,
   "id": "ab8f4070",
   "metadata": {},
   "outputs": [
    {
     "name": "stdout",
     "output_type": "stream",
     "text": [
      "Heads\n"
     ]
    }
   ],
   "source": [
    "#generating random toss\n",
    "import random\n",
    "random_toss = random.randint(0,1)\n",
    "if random_toss == 1:\n",
    "    print ('Heads')\n",
    "else:\n",
    "    print('Tails')"
   ]
  },
  {
   "cell_type": "code",
   "execution_count": 4,
   "id": "f77ef82f",
   "metadata": {},
   "outputs": [
    {
     "name": "stdout",
     "output_type": "stream",
     "text": [
      "Enter everyone's names seperated by a comma and spacesr, sus, vik, ath\n",
      "The person who is going to pay the bill is vik\n"
     ]
    }
   ],
   "source": [
    "#bank roulette: random cards are picked in order to know who is going to pay the bill\n",
    "import random\n",
    "names = input(\"Enter everyone's names seperated by a comma and space\")\n",
    "names1 = names.split(', ')\n",
    "total_no_of_people = len(names)\n",
    "random_name = random.randint(0,total_no_of_people - 1)\n",
    "random_choice = names1[random_name]\n",
    "print(f\"The person who is going to pay the bill is {random_choice}\")\n",
    "\n",
    "\n"
   ]
  },
  {
   "cell_type": "code",
   "execution_count": null,
   "id": "8b6f7d24",
   "metadata": {},
   "outputs": [],
   "source": [
    "import random\n",
    "rock = '''\n",
    "    _______\n",
    "---'   ____)\n",
    "      (_____)\n",
    "      (_____)\n",
    "      (____)\n",
    "---.__(___)\n",
    "'''\n",
    "\n",
    "paper = '''\n",
    "    _______\n",
    "---'   ____)____\n",
    "          ______)\n",
    "          _______)\n",
    "         _______)\n",
    "---.__________)\n",
    "'''\n",
    "\n",
    "scissors = '''\n",
    "    _______\n",
    "---'   ____)____\n",
    "          ______)\n",
    "       __________)\n",
    "      (____)\n",
    "---.__(___)\n",
    "'''\n",
    "\n",
    "\n",
    "user_turn = int(input(\"Type 0 for \\\"ROCK\\\" or 1 for \\\"PAPER\\\" or 2 for \\\"SCISSORS\\\"\\n\"))\n",
    "\n",
    "print (\"You chose {user_turn}\")\n",
    "\n",
    "computer_turn = random.randint(0,2)\n",
    "\n",
    "print(f\"computer chose {computer_turn}\")\n",
    "\n",
    "if user_turn == 0 and computer_turn == 0:\n",
    "  print(\"It\\'s a tie\")\n",
    "elif user_turn == 0 and computer_turn == 1:\n",
    "  print(\"Computer Wins\")\n",
    "elif user_turn == 0 and computer_turn == 2:\n",
    "  print(\"You Win\")\n",
    "\n",
    "elif user_turn == 1 and computer_turn == 0:\n",
    "  print(\"You Win\")\n",
    "elif user_turn == 1 and computer_turn == 1:\n",
    "  print(\"It\\'s a tie\")\n",
    "elif user_turn == 1 and computer_turn == 2:\n",
    "  print(\"Computer Wins\")\n",
    "\n",
    "elif user_turn == 2 and computer_turn == 0:\n",
    "  print(\"Computer Wins\")\n",
    "elif user_turn == 2 and computer_turn == 1:\n",
    "  print(\"You Win\")\n",
    "elif user_turn == 2 and computer_turn == 2:\n",
    "  print(\"It's a tie\")\n",
    "else:\n",
    "  print(\"You have entered a wrong number.You lose!\")\n"
   ]
  },
  {
   "cell_type": "code",
   "execution_count": 11,
   "id": "3d6afaf6",
   "metadata": {},
   "outputs": [
    {
     "name": "stdout",
     "output_type": "stream",
     "text": [
      "Input a list of student heights 123 456 67\n",
      "246\n",
      "912\n",
      "134\n"
     ]
    }
   ],
   "source": [
    "student_heights = input(\"Input a list of student heights \").split()\n",
    "for n in range(0, len(student_heights)):\n",
    "  student_heights[n] = int(student_heights[n])\n",
    "b = 0\n",
    "for i in student_heights:\n",
    "    b = b + i \n",
    "    print(student_height2)\n",
    "\n",
    "   \n"
   ]
  },
  {
   "cell_type": "code",
   "execution_count": null,
   "id": "0e0ff3ae",
   "metadata": {},
   "outputs": [],
   "source": []
  }
 ],
 "metadata": {
  "kernelspec": {
   "display_name": "Python 3 (ipykernel)",
   "language": "python",
   "name": "python3"
  },
  "language_info": {
   "codemirror_mode": {
    "name": "ipython",
    "version": 3
   },
   "file_extension": ".py",
   "mimetype": "text/x-python",
   "name": "python",
   "nbconvert_exporter": "python",
   "pygments_lexer": "ipython3",
   "version": "3.9.13"
  }
 },
 "nbformat": 4,
 "nbformat_minor": 5
}
